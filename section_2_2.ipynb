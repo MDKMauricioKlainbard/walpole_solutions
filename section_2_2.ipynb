{
 "cells": [
  {
   "cell_type": "code",
   "execution_count": 1,
   "id": "9785e66f",
   "metadata": {},
   "outputs": [
    {
     "name": "stdout",
     "output_type": "stream",
     "text": [
      "18\n"
     ]
    }
   ],
   "source": [
    "# 2.21\n",
    "\n",
    "# To clarify the problem statement, let's assume this is an event \n",
    "# that is only active, for example, on Monday, Tuesday, and Wednesday. \n",
    "# A person can choose only one of those days to attend \n",
    "# one of the six possible sightseeing tours.\n",
    "\n",
    "# Therefore, for each of the three possible choices of day to attend, \n",
    "# there are six tour options to choose from. The total number of possibilities is:\n",
    "\n",
    "possibilities = 3 * 6\n",
    "print(possibilities)"
   ]
  },
  {
   "cell_type": "code",
   "execution_count": null,
   "id": "4d11c74d",
   "metadata": {},
   "outputs": [
    {
     "name": "stdout",
     "output_type": "stream",
     "text": [
      "24\n"
     ]
    }
   ],
   "source": [
    "# 2.22\n",
    "\n",
    "# There are eight blood types. For each type, there are three possible blood pressure levels: \n",
    "# low, normal, or high. Therefore:\n",
    "\n",
    "possibilities = 8 * 3\n",
    "print(possibilities)\n"
   ]
  },
  {
   "cell_type": "code",
   "execution_count": null,
   "id": "d75fc165",
   "metadata": {},
   "outputs": [
    {
     "name": "stdout",
     "output_type": "stream",
     "text": [
      "156\n"
     ]
    }
   ],
   "source": [
    "# 2.23\n",
    "\n",
    "# In a dice roll, there are six possible outcomes; \n",
    "# for each possible outcome, we can draw one of the 26 letters from the alphabet:\n",
    "\n",
    "possibilities = 6 * 26\n",
    "print(possibilities)\n"
   ]
  },
  {
   "cell_type": "code",
   "execution_count": 5,
   "id": "54682c32",
   "metadata": {},
   "outputs": [
    {
     "name": "stdout",
     "output_type": "stream",
     "text": [
      "8\n"
     ]
    }
   ],
   "source": [
    "# 2.24\n",
    "\n",
    "# There are four years in the university program, so we have four possible years \n",
    "# to which a randomly chosen student may belong. \n",
    "# For each of those possibilities, the student can be either male or female. Therefore:\n",
    "\n",
    "possibilities = 4 * 2\n",
    "print(possibilities)\n"
   ]
  },
  {
   "cell_type": "code",
   "execution_count": 7,
   "id": "9c5315e5",
   "metadata": {},
   "outputs": [
    {
     "name": "stdout",
     "output_type": "stream",
     "text": [
      "20\n"
     ]
    }
   ],
   "source": [
    "# 2.25\n",
    "\n",
    "# Five shoe styles; for each style, there are four different colors:\n",
    "\n",
    "possibilities = 5 * 4\n",
    "print(possibilities)\n"
   ]
  },
  {
   "cell_type": "code",
   "execution_count": 20,
   "id": "25d81e19",
   "metadata": {},
   "outputs": [
    {
     "name": "stdout",
     "output_type": "stream",
     "text": [
      "a) The person can adopt 5 of these rules in 21 ways\n",
      "---\n",
      "b) The person can adopt 5 of these rules in 10 ways\n"
     ]
    }
   ],
   "source": [
    "# 2.26\n",
    "\n",
    "# a) Considering that the person violates all the rules, they can adopt any of them.\n",
    "# Here, it is not as simple as using the product rule, since the order does not matter.\n",
    "# In this case, we use Theorem 2.6:\n",
    "# We take combinations from a set of seven rules, in groups of 5.\n",
    "\n",
    "import math\n",
    "\n",
    "possibilities = math.comb(7, 5)\n",
    "print(f\"a) The person can adopt 5 of these rules in {possibilities} ways\")\n",
    "print(\"---\")\n",
    "\n",
    "# b) If the person has already adopted two of these rules, they can only adopt the remaining five.\n",
    "# However, the two already adopted rules are taken into account, \n",
    "# so we only need to choose 3 more from the remaining 5.\n",
    "# That is, a combination of 3 rules from a set of 5.\n",
    "\n",
    "possibilities = math.comb(5, 3)\n",
    "print(f\"b) The person can adopt 5 of these rules in {possibilities} ways\")\n"
   ]
  },
  {
   "cell_type": "code",
   "execution_count": 21,
   "id": "2b331762",
   "metadata": {},
   "outputs": [
    {
     "name": "stdout",
     "output_type": "stream",
     "text": [
      "48\n"
     ]
    }
   ],
   "source": [
    "# 2.27\n",
    "\n",
    "# 4 designs, 3 different heating systems, a garage or a shed (2 possibilities), \n",
    "# and a patio or a carport (2 possibilities). Using the product rule:\n",
    "\n",
    "possibilities = 4 * 3 * 2 * 2\n",
    "print(possibilities)"
   ]
  },
  {
   "cell_type": "code",
   "execution_count": 22,
   "id": "9fb13825",
   "metadata": {},
   "outputs": [
    {
     "name": "stdout",
     "output_type": "stream",
     "text": [
      "30\n"
     ]
    }
   ],
   "source": [
    "# 2.28\n",
    "\n",
    "# The medicine can be obtained from 5 different laboratories, \n",
    "# in liquid, tablet, or capsule form (3 possibilities), \n",
    "# each in normal or high concentration (2 possibilities):\n",
    "\n",
    "possibilities = 5 * 3 * 2\n",
    "print(possibilities)\n"
   ]
  },
  {
   "cell_type": "code",
   "execution_count": 23,
   "id": "c9e4a177",
   "metadata": {},
   "outputs": [
    {
     "name": "stdout",
     "output_type": "stream",
     "text": [
      "210\n"
     ]
    }
   ],
   "source": [
    "# 2.29\n",
    "\n",
    "# 3 cars, 5 gasoline brands, 7 possible locations, 2 drivers:\n",
    "\n",
    "possibilities = 3 * 5 * 7 * 2\n",
    "print(possibilities)\n"
   ]
  },
  {
   "cell_type": "code",
   "execution_count": null,
   "id": "7e204dc5",
   "metadata": {},
   "outputs": [
    {
     "name": "stdout",
     "output_type": "stream",
     "text": [
      "512\n"
     ]
    }
   ],
   "source": [
    "# 2.30\n",
    "\n",
    "# Let's read the problem carefully; it is not as simple as 9*2.\n",
    "# In this case, there are two ways to answer each question. \n",
    "# For the first question, there are two possible answers; \n",
    "# for each of those, there are two ways to answer the second question, and so on. \n",
    "# Therefore, the total number of ways to complete this exam is:\n",
    "\n",
    "possibilities = 2**9\n",
    "print(possibilities)"
   ]
  },
  {
   "cell_type": "code",
   "execution_count": 27,
   "id": "2addf989",
   "metadata": {},
   "outputs": [
    {
     "name": "stdout",
     "output_type": "stream",
     "text": [
      "72\n"
     ]
    }
   ],
   "source": [
    "# 2.31\n",
    "\n",
    "# It is clear that the license plate has the form RLH5..; the last two digits are unknown,\n",
    "# but we know that all the digits on the plate are distinct.\n",
    "\n",
    "# Therefore, the last two digits must be different from each other and also different from 5.\n",
    "# Here, we are mainly interested in the possibilities for the last two digits.\n",
    "\n",
    "# Order matters, since RLH589 is not the same as RLH598.\n",
    "\n",
    "# For the first digit, we have 9 options (0-4, 6-9). \n",
    "# Once we choose one of these options, 8 remain for the second digit. \n",
    "# Thus, the number of possible license plates is:\n",
    "\n",
    "possibilities = 9 * 8\n",
    "print(possibilities)"
   ]
  },
  {
   "cell_type": "code",
   "execution_count": null,
   "id": "67f8ee15",
   "metadata": {},
   "outputs": [
    {
     "name": "stdout",
     "output_type": "stream",
     "text": [
      "a) There are 720 ways to arrange the 6 people.\n",
      "---\n",
      "b) There are 144 ways to arrange the 6 people if these 3 must stand together.\n",
      "---\n",
      "c) There are 480 ways to arrange the 6 people if two of them refuse to stand together.\n"
     ]
    }
   ],
   "source": [
    "# 2.32\n",
    "\n",
    "import math\n",
    "\n",
    "# a) Since this is a row of six people and we are looking at the number of ways they can be arranged,\n",
    "# it is clear that order matters. This is simply the number of permutations of 6 people:\n",
    "\n",
    "possibilities = math.perm(6)\n",
    "print(f\"a) There are {possibilities} ways to arrange the 6 people.\")\n",
    "print(\"---\")\n",
    "\n",
    "# b) First, let's consider this group of three people who want to stand together as a single unit. \n",
    "# In this way, it is as if we are considering only four \"people\" in the row. \n",
    "# Thus, the number of ways to arrange these four \"people\" is:\n",
    "\n",
    "possibilities = math.perm(4)\n",
    "\n",
    "# However, within this \"unit,\" the three people can arrange themselves in 3! ways.\n",
    "possibilities_unit = math.perm(3)\n",
    "\n",
    "# Therefore, for each general arrangement, there are 3! ways for these three people to arrange themselves.\n",
    "# Hence, the total number of ways the six people can be arranged, \n",
    "# considering that these three must stand together, is:\n",
    "\n",
    "total_possibilities = possibilities * possibilities_unit\n",
    "print(f\"b) There are {total_possibilities} ways to arrange the 6 people if these 3 must stand together.\")\n",
    "print(\"---\")\n",
    "\n",
    "# c) Similar to the previous part, but now, two of these people refuse to stand next to each other.\n",
    "# So we consider these two people as a single \"unit,\" leaving us with five \"people\" in total.\n",
    "# The number of ways to arrange these five \"people\" is:\n",
    "\n",
    "possibilities = math.perm(5)\n",
    "\n",
    "# Now, we are interested in the arrangements where these two people are together, \n",
    "# because these are exactly the arrangements that are not allowed. \n",
    "# Therefore, we subtract these restricted arrangements from the total unrestricted arrangements:\n",
    "\n",
    "total_possibilities = math.perm(6) - possibilities * math.perm(2)\n",
    "print(f\"c) There are {total_possibilities} ways to arrange the 6 people if two of them refuse to stand together.\")"
   ]
  }
 ],
 "metadata": {
  "kernelspec": {
   "display_name": "Python 3",
   "language": "python",
   "name": "python3"
  },
  "language_info": {
   "codemirror_mode": {
    "name": "ipython",
    "version": 3
   },
   "file_extension": ".py",
   "mimetype": "text/x-python",
   "name": "python",
   "nbconvert_exporter": "python",
   "pygments_lexer": "ipython3",
   "version": "3.13.2"
  }
 },
 "nbformat": 4,
 "nbformat_minor": 5
}
