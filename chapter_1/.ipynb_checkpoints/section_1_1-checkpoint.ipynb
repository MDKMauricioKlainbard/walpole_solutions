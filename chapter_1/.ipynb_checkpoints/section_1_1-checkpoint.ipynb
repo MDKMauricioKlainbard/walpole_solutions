{
 "cells": [
  {
   "cell_type": "code",
   "execution_count": 1,
   "id": "9cb0474c",
   "metadata": {},
   "outputs": [
    {
     "name": "stdout",
     "output_type": "stream",
     "text": [
      "a) El tamaño de la muestra es: 15\n",
      "\n",
      "b) La media de la muestra es: 3.7866666666666666\n",
      "La media de la muestra calculada con NumPy es: 3.7866666666666666\n",
      "\n",
      "c) La mediana es: 3.6\n",
      "La mediana calculada con NumPy es: 3.6\n",
      "\n",
      "e) La media recortada con SciPy es: 3.677777777777778\n",
      "La media recortada, recortando manualmente el arreglo y calculando con NumPy, es: 3.677777777777778\n"
     ]
    },
    {
     "data": {
      "image/png": "[encoded data removed]",
      "text/plain": [
       "<Figure size 800x200 with 1 Axes>"
      ]
     },
     "metadata": {},
     "output_type": "display_data"
    }
   ],
   "source": [
    "import numpy as np\n",
    "import matplotlib.pyplot as plt\n",
    "from scipy.stats import trim_mean\n",
    "# EJERCICIOS DE LA SECCIÓN 1.1 RESUELTOS\n",
    "\n",
    "# 1.1:\n",
    "secado_en_horas = np.array([3.4, 2.5, 4.8, 2.9, 3.6, 2.8, 3.3, 5.6, 3.7, 2.8, 4.4, 4.0, 5.2, 3.0, 4.8])\n",
    "# a)\n",
    "tamano_muestra = secado_en_horas.size\n",
    "print(f\"a) El tamaño de la muestra es: {tamano_muestra}\\n\")\n",
    "\n",
    "# b)\n",
    "# Empezaré calculando las cosas con bucles, como si lo estuviera haciendo a mano, para entender como funciona.\n",
    "# Después usaré exclusivamente los métodos de numpy para agilizar el trabajo.\n",
    "suma = 0\n",
    "for dato in secado_en_horas:\n",
    "    suma = suma + dato\n",
    "print(f\"b) La media de la muestra es: {suma / tamano_muestra}\")\n",
    "print(f\"La media de la muestra calculada con NumPy es: {secado_en_horas.mean()}\\n\")\n",
    "\n",
    "# c)\n",
    "# Tomaré la mediana, basándome en si el tamaño es par o impar.\n",
    "mediana = 0\n",
    "secado_en_horas_ordenado = np.sort(secado_en_horas)\n",
    "if tamano_muestra % 2 == 0:\n",
    "    index = np.int16((tamano_muestra -2 ) / 2)\n",
    "    mediana = (secado_en_horas_ordenado[index] + secado_en_horas_ordenado[index+1]) / 2\n",
    "else:\n",
    "    index = np.int16((tamano_muestra - 1) / 2)\n",
    "    mediana = secado_en_horas_ordenado[index]\n",
    "print(f\"c) La mediana es: {mediana}\")\n",
    "print(f\"La mediana calculada con NumPy es: {np.median(secado_en_horas)}\\n\")\n",
    "\n",
    "# d) Debo usar la librería de Matplot, así que lo dejaré para el final\n",
    "\n",
    "\n",
    "# e) Requiero de la librería SciPy\n",
    "corte = np.int16(tamano_muestra * 0.2)\n",
    "media_recortada = trim_mean(secado_en_horas, proportiontocut=0.2)\n",
    "media_recortada_n = np.mean(secado_en_horas_ordenado[corte:tamano_muestra-corte])\n",
    "print(f\"e) La media recortada con SciPy es: {media_recortada}\")\n",
    "print(f\"La media recortada, recortando manualmente el arreglo y calculando con NumPy, es: {media_recortada_n}\")\n",
    "\n",
    "# d)\n",
    "y = [1] * len(secado_en_horas)  # todos los puntos estarán sobre la misma línea\n",
    "\n",
    "plt.figure(figsize=(8, 2))\n",
    "plt.scatter(secado_en_horas, y, color=\"blue\", s=100)\n",
    "\n",
    "plt.yticks([])  # quitamos eje Y porque no aporta información\n",
    "plt.xlabel(\"Tiempo de secado (horas)\")\n",
    "plt.title(\"Gráfica de puntos - Tiempos de secado\")\n",
    "plt.show()\n",
    "\n",
    "# f) La media y la mediana son similares, pero puedo observar dos valores extremos un poco distanciados entre sí: 2.5 y 5.6\n",
    "# Por ende, a mi juicio personal, he de considerar que la mediana es una mejor representativa de esta muestra."
   ]
  }
 ],
 "metadata": {
  "kernelspec": {
   "display_name": "Python 3",
   "language": "python",
   "name": "python3"
  },
  "language_info": {
   "codemirror_mode": {
    "name": "ipython",
    "version": 3
   },
   "file_extension": ".py",
   "mimetype": "text/x-python",
   "name": "python",
   "nbconvert_exporter": "python",
   "pygments_lexer": "ipython3",
   "version": "3.13.2"
  }
 },
 "nbformat": 4,
 "nbformat_minor": 5
}
