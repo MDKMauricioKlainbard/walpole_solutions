{
 "cells": [
  {
   "cell_type": "code",
   "execution_count": 1,
   "id": "9785e66f",
   "metadata": {},
   "outputs": [
    {
     "name": "stdout",
     "output_type": "stream",
     "text": [
      "18\n"
     ]
    }
   ],
   "source": [
    "# 2.21\n",
    "\n",
    "# To clarify the problem statement, let's assume this is an event \n",
    "# that is only active, for example, on Monday, Tuesday, and Wednesday. \n",
    "# A person can choose only one of those days to attend \n",
    "# one of the six possible sightseeing tours.\n",
    "\n",
    "# Therefore, for each of the three possible choices of day to attend, \n",
    "# there are six tour options to choose from. The total number of possibilities is:\n",
    "\n",
    "possibilities = 3 * 6\n",
    "print(possibilities)"
   ]
  },
  {
   "cell_type": "code",
   "execution_count": null,
   "id": "4d11c74d",
   "metadata": {},
   "outputs": [
    {
     "name": "stdout",
     "output_type": "stream",
     "text": [
      "24\n"
     ]
    }
   ],
   "source": [
    "# 2.22\n",
    "\n",
    "# There are eight blood types. For each type, there are three possible blood pressure levels: \n",
    "# low, normal, or high. Therefore:\n",
    "\n",
    "possibilities = 8 * 3\n",
    "print(possibilities)\n"
   ]
  },
  {
   "cell_type": "code",
   "execution_count": null,
   "id": "d75fc165",
   "metadata": {},
   "outputs": [
    {
     "name": "stdout",
     "output_type": "stream",
     "text": [
      "156\n"
     ]
    }
   ],
   "source": [
    "# 2.23\n",
    "\n",
    "# In a dice roll, there are six possible outcomes; \n",
    "# for each possible outcome, we can draw one of the 26 letters from the alphabet:\n",
    "\n",
    "possibilities = 6 * 26\n",
    "print(possibilities)\n"
   ]
  },
  {
   "cell_type": "code",
   "execution_count": 5,
   "id": "54682c32",
   "metadata": {},
   "outputs": [
    {
     "name": "stdout",
     "output_type": "stream",
     "text": [
      "8\n"
     ]
    }
   ],
   "source": [
    "# 2.24\n",
    "\n",
    "# There are four years in the university program, so we have four possible years \n",
    "# to which a randomly chosen student may belong. \n",
    "# For each of those possibilities, the student can be either male or female. Therefore:\n",
    "\n",
    "possibilities = 4 * 2\n",
    "print(possibilities)\n"
   ]
  },
  {
   "cell_type": "code",
   "execution_count": 7,
   "id": "9c5315e5",
   "metadata": {},
   "outputs": [
    {
     "name": "stdout",
     "output_type": "stream",
     "text": [
      "20\n"
     ]
    }
   ],
   "source": [
    "# 2.25\n",
    "\n",
    "# Five shoe styles; for each style, there are four different colors:\n",
    "\n",
    "possibilities = 5 * 4\n",
    "print(possibilities)\n"
   ]
  },
  {
   "cell_type": "code",
   "execution_count": 20,
   "id": "25d81e19",
   "metadata": {},
   "outputs": [
    {
     "name": "stdout",
     "output_type": "stream",
     "text": [
      "a) The person can adopt 5 of these rules in 21 ways\n",
      "---\n",
      "b) The person can adopt 5 of these rules in 10 ways\n"
     ]
    }
   ],
   "source": [
    "# 2.26\n",
    "\n",
    "# a) Considering that the person violates all the rules, they can adopt any of them.\n",
    "# Here, it is not as simple as using the product rule, since the order does not matter.\n",
    "# In this case, we use Theorem 2.6:\n",
    "# We take combinations from a set of seven rules, in groups of 5.\n",
    "\n",
    "import math\n",
    "\n",
    "possibilities = math.comb(7, 5)\n",
    "print(f\"a) The person can adopt 5 of these rules in {possibilities} ways\")\n",
    "print(\"---\")\n",
    "\n",
    "# b) If the person has already adopted two of these rules, they can only adopt the remaining five.\n",
    "# However, the two already adopted rules are taken into account, \n",
    "# so we only need to choose 3 more from the remaining 5.\n",
    "# That is, a combination of 3 rules from a set of 5.\n",
    "\n",
    "possibilities = math.comb(5, 3)\n",
    "print(f\"b) The person can adopt 5 of these rules in {possibilities} ways\")\n"
   ]
  },
  {
   "cell_type": "code",
   "execution_count": 21,
   "id": "2b331762",
   "metadata": {},
   "outputs": [
    {
     "name": "stdout",
     "output_type": "stream",
     "text": [
      "48\n"
     ]
    }
   ],
   "source": [
    "# 2.27\n",
    "\n",
    "# 4 designs, 3 different heating systems, a garage or a shed (2 possibilities), \n",
    "# and a patio or a carport (2 possibilities). Using the product rule:\n",
    "\n",
    "possibilities = 4 * 3 * 2 * 2\n",
    "print(possibilities)"
   ]
  },
  {
   "cell_type": "code",
   "execution_count": 22,
   "id": "9fb13825",
   "metadata": {},
   "outputs": [
    {
     "name": "stdout",
     "output_type": "stream",
     "text": [
      "30\n"
     ]
    }
   ],
   "source": [
    "# 2.28\n",
    "\n",
    "# The medicine can be obtained from 5 different laboratories, \n",
    "# in liquid, tablet, or capsule form (3 possibilities), \n",
    "# each in normal or high concentration (2 possibilities):\n",
    "\n",
    "possibilities = 5 * 3 * 2\n",
    "print(possibilities)\n"
   ]
  },
  {
   "cell_type": "code",
   "execution_count": 23,
   "id": "c9e4a177",
   "metadata": {},
   "outputs": [
    {
     "name": "stdout",
     "output_type": "stream",
     "text": [
      "210\n"
     ]
    }
   ],
   "source": [
    "# 2.29\n",
    "\n",
    "# 3 cars, 5 gasoline brands, 7 possible locations, 2 drivers:\n",
    "\n",
    "possibilities = 3 * 5 * 7 * 2\n",
    "print(possibilities)\n"
   ]
  },
  {
   "cell_type": "code",
   "execution_count": null,
   "id": "7e204dc5",
   "metadata": {},
   "outputs": [
    {
     "name": "stdout",
     "output_type": "stream",
     "text": [
      "512\n"
     ]
    }
   ],
   "source": [
    "# 2.30\n",
    "\n",
    "# Let's read the problem carefully; it is not as simple as 9*2.\n",
    "# In this case, there are two ways to answer each question. \n",
    "# For the first question, there are two possible answers; \n",
    "# for each of those, there are two ways to answer the second question, and so on. \n",
    "# Therefore, the total number of ways to complete this exam is:\n",
    "\n",
    "possibilities = 2**9\n",
    "print(possibilities)"
   ]
  },
  {
   "cell_type": "code",
   "execution_count": 27,
   "id": "2addf989",
   "metadata": {},
   "outputs": [
    {
     "name": "stdout",
     "output_type": "stream",
     "text": [
      "72\n"
     ]
    }
   ],
   "source": [
    "# 2.31\n",
    "\n",
    "# It is clear that the license plate has the form RLH5..; the last two digits are unknown,\n",
    "# but we know that all the digits on the plate are distinct.\n",
    "\n",
    "# Therefore, the last two digits must be different from each other and also different from 5.\n",
    "# Here, we are mainly interested in the possibilities for the last two digits.\n",
    "\n",
    "# Order matters, since RLH589 is not the same as RLH598.\n",
    "\n",
    "# For the first digit, we have 9 options (0-4, 6-9). \n",
    "# Once we choose one of these options, 8 remain for the second digit. \n",
    "# Thus, the number of possible license plates is:\n",
    "\n",
    "possibilities = 9 * 8\n",
    "print(possibilities)"
   ]
  },
  {
   "cell_type": "code",
   "execution_count": null,
   "id": "67f8ee15",
   "metadata": {},
   "outputs": [
    {
     "name": "stdout",
     "output_type": "stream",
     "text": [
      "a) There are 720 ways to arrange the 6 people.\n",
      "---\n",
      "b) There are 144 ways to arrange the 6 people if these 3 must stand together.\n",
      "---\n",
      "c) There are 480 ways to arrange the 6 people if two of them refuse to stand together.\n"
     ]
    }
   ],
   "source": [
    "# 2.32\n",
    "\n",
    "import math\n",
    "\n",
    "# a) Since this is a row of six people and we are looking at the number of ways they can be arranged,\n",
    "# it is clear that order matters. This is simply the number of permutations of 6 people:\n",
    "\n",
    "possibilities = math.perm(6)\n",
    "print(f\"a) There are {possibilities} ways to arrange the 6 people.\")\n",
    "print(\"---\")\n",
    "\n",
    "# b) First, let's consider this group of three people who want to stand together as a single unit. \n",
    "# In this way, it is as if we are considering only four \"people\" in the row. \n",
    "# Thus, the number of ways to arrange these four \"people\" is:\n",
    "\n",
    "possibilities = math.perm(4)\n",
    "\n",
    "# However, within this \"unit,\" the three people can arrange themselves in 3! ways.\n",
    "possibilities_unit = math.perm(3)\n",
    "\n",
    "# Therefore, for each general arrangement, there are 3! ways for these three people to arrange themselves.\n",
    "# Hence, the total number of ways the six people can be arranged, \n",
    "# considering that these three must stand together, is:\n",
    "\n",
    "total_possibilities = possibilities * possibilities_unit\n",
    "print(f\"b) There are {total_possibilities} ways to arrange the 6 people if these 3 must stand together.\")\n",
    "print(\"---\")\n",
    "\n",
    "# c) Similar to the previous part, but now, two of these people refuse to stand next to each other.\n",
    "# So we consider these two people as a single \"unit,\" leaving us with five \"people\" in total.\n",
    "# The number of ways to arrange these five \"people\" is:\n",
    "\n",
    "possibilities = math.perm(5)\n",
    "\n",
    "# Now, we are interested in the arrangements where these two people are together, \n",
    "# because these are exactly the arrangements that are not allowed. \n",
    "# Therefore, we subtract these restricted arrangements from the total unrestricted arrangements:\n",
    "\n",
    "total_possibilities = math.perm(6) - possibilities * math.perm(2)\n",
    "print(f\"c) There are {total_possibilities} ways to arrange the 6 people if two of them refuse to stand together.\")"
   ]
  },
  {
   "cell_type": "code",
   "execution_count": 3,
   "id": "620b087a",
   "metadata": {},
   "outputs": [
    {
     "name": "stdout",
     "output_type": "stream",
     "text": [
      "a) The total number of ways to answer the exam is: 1024\n",
      "---\n",
      "b) The total number of ways to answer all the questions incorrectly is: 243\n"
     ]
    }
   ],
   "source": [
    "# 2.33\n",
    "\n",
    "# The exam consists of five questions, each with four possible answers.\n",
    "# Now, the total number of ways to answer the exam is:\n",
    "\n",
    "# a)\n",
    "total_possibilities = 4**5\n",
    "print(f\"a) The total number of ways to answer the exam is: {total_possibilities}\")\n",
    "print(\"---\")\n",
    "\n",
    "# b) Since for each question only one answer is correct, the other three are incorrect.\n",
    "# We now ask: in how many ways can all the questions be answered incorrectly?\n",
    "\n",
    "# For each question, there are three ways to give an incorrect answer.\n",
    "# Therefore, the total number of ways to answer all the questions incorrectly is:\n",
    "total_possibilities_incorrect = 3**5\n",
    "print(f\"b) The total number of ways to answer all the questions incorrectly is: {total_possibilities_incorrect}\")"
   ]
  },
  {
   "cell_type": "code",
   "execution_count": null,
   "id": "326922bf",
   "metadata": {},
   "outputs": [
    {
     "name": "stdout",
     "output_type": "stream",
     "text": [
      "a) The number of distinct permutations that can be made from the word COLUMNA is: 5040\n",
      "---\n",
      "b) The number of permutations that start with the letter M is: 720\n"
     ]
    }
   ],
   "source": [
    "# 2.34\n",
    "\n",
    "import math\n",
    "\n",
    "# a) We have the word COLUMNA, and we want to determine how many distinct permutations\n",
    "# can be made from its letters. Since all the letters are different, \n",
    "# the number of permutations is simply:\n",
    "possibilities = math.perm(7)\n",
    "print(f\"a) The number of distinct permutations that can be made from the word COLUMNA is: {possibilities}\")\n",
    "print(\"---\")\n",
    "\n",
    "# b) Now we ask: how many of these permutations begin with the letter M?\n",
    "# It’s as simple as fixing the letter M in the first position and permuting the remaining six letters.\n",
    "# Therefore, the number of permutations that start with the letter M is:\n",
    "possibilities = math.perm(6)\n",
    "print(f\"b) The number of permutations that start with the letter M is: {possibilities}\")"
   ]
  },
  {
   "cell_type": "code",
   "execution_count": 7,
   "id": "ff133f0d",
   "metadata": {},
   "outputs": [
    {
     "name": "stdout",
     "output_type": "stream",
     "text": [
      "The contractor can arrange the houses in 362880 different ways.\n"
     ]
    }
   ],
   "source": [
    "# 2.35\n",
    "\n",
    "# A contractor plans to build nine houses, each with a different design.\n",
    "# They want to place them along a street: there are six lots on one side and three on the other.\n",
    "\n",
    "# First, we can determine all the possible partitions the contractor can make, \n",
    "# dividing the nine houses into groups of six and three. \n",
    "# Then, for each partition, we can permute the houses within their respective lots.\n",
    "\n",
    "# We use the combination formula for choosing 6 out of 9 houses, \n",
    "# and then multiply by the number of permutations for arranging the houses in the lots.\n",
    "import math\n",
    "possibilities = math.comb(9, 6) * math.perm(6) * math.perm(3)\n",
    "print(f\"The contractor can arrange the houses in {possibilities} different ways.\")"
   ]
  },
  {
   "cell_type": "code",
   "execution_count": 13,
   "id": "fb733989",
   "metadata": {},
   "outputs": [
    {
     "name": "stdout",
     "output_type": "stream",
     "text": [
      "a) The total number of three-digit numbers that can be formed is: 180\n",
      "---\n",
      "b) The total number of three-digit odd numbers that can be formed is: 75\n",
      "---\n",
      "c) The total number of three-digit numbers greater than 330 that can be formed is: 105\n"
     ]
    }
   ],
   "source": [
    "# 2.36\n",
    "\n",
    "# We have the numbers 0, 1, 2, 3, 4, 5, and 6. \n",
    "# If we want to form three-digit numbers, we must first note that the first digit cannot be 0.\n",
    "\n",
    "# a) If we want to form three-digit numbers without repeating digits:\n",
    "# The first digit can be any number from 1 to 6 (6 options).\n",
    "# The second digit can be any of the remaining numbers (6 options, \n",
    "# since 0 can now be used), and the third digit can be any of the remaining numbers (5 options).\n",
    "# Therefore, the total number of three-digit numbers that can be formed is:\n",
    "possibilities = 6 * 6 * 5\n",
    "print(f\"a) The total number of three-digit numbers that can be formed is: {possibilities}\")\n",
    "print(\"---\")\n",
    "\n",
    "# b) Now, we want to know how many of these numbers are odd.\n",
    "# Similar to the previous case, but now the third digit (the units digit)\n",
    "# must be one of the odd numbers: 1, 3, or 5 (3 options).\n",
    "# If we choose one of them, then for the hundreds digit we have 5 options \n",
    "# (the remaining numbers, excluding the one chosen for the units digit and zero),\n",
    "# and for the tens digit, we have the remaining 4 digits plus zero (5 options).\n",
    "# Therefore, the total number of three-digit odd numbers that can be formed is:\n",
    "possibilities = 3 * 5 * 5\n",
    "print(f\"b) The total number of three-digit odd numbers that can be formed is: {possibilities}\")\n",
    "print(\"---\")\n",
    "\n",
    "# c) How many numbers are greater than 330?\n",
    "# For this, consider that for the first digit (hundreds place),\n",
    "# we can choose 3, 4, 5, or 6 (4 options).\n",
    "# If we choose 3, then for the second digit (tens place),\n",
    "# we can choose 4, 5, or 6 (3 options), and for the third digit (units place),\n",
    "# we can choose any of the remaining numbers (5 options).\n",
    "\n",
    "possibilities_starting_with_3 = 1 * 3 * 5\n",
    "\n",
    "# If we choose 4, 5, or 6 for the first digit,\n",
    "# then for the second digit we have 6 options (0 and the remaining numbers),\n",
    "# and for the third digit we have 5 options (the remaining numbers).\n",
    "\n",
    "possibilities_starting_with_4_5_6 = 3 * 6 * 5\n",
    "total_possibilities = possibilities_starting_with_3 + possibilities_starting_with_4_5_6\n",
    "print(f\"c) The total number of three-digit numbers greater than 330 that can be formed is: {total_possibilities}\")\n"
   ]
  },
  {
   "cell_type": "code",
   "execution_count": null,
   "id": "7f599c74",
   "metadata": {},
   "outputs": [
    {
     "name": "stdout",
     "output_type": "stream",
     "text": [
      "The total number of ways to arrange the children in an alternating manner is: 2880\n"
     ]
    }
   ],
   "source": [
    "# 2.37\n",
    "\n",
    "# If we have four boys and five girls, we have nine children in total who must be arranged\n",
    "# in a line in an alternating manner.\n",
    "\n",
    "# We can start with either a boy or a girl. If we start with a boy, then,\n",
    "# considering that order matters, we have 4 options for the first boy,\n",
    "# 5 options for the first girl, 3 options for the second boy,\n",
    "# 4 options for the second girl, 2 options for the third boy,\n",
    "# 3 options for the third girl, 1 option for the fourth boy,\n",
    "# and 2 options for the fourth girl. However, this would result in\n",
    "# two girls sitting together at the end of the line. Therefore, we must actually\n",
    "# start with a girl.\n",
    "\n",
    "# If we start with a girl, we have 5 options for the first girl,\n",
    "# 4 options for the first boy, 4 options for the second girl,\n",
    "# 3 options for the second boy, 3 options for the third girl,\n",
    "# 2 options for the third boy, 2 options for the fourth girl,\n",
    "# 1 option for the fourth boy, and 1 option for the fifth girl.\n",
    "possibilities = 5 * 4 * 4 * 3 * 3 * 2 * 2 * 1 * 1\n",
    "print(f\"The total number of ways to arrange the children in an alternating manner is: {possibilities}\")"
   ]
  },
  {
   "cell_type": "code",
   "execution_count": 18,
   "id": "d13f15e7",
   "metadata": {},
   "outputs": [
    {
     "name": "stdout",
     "output_type": "stream",
     "text": [
      "a) The number of possible ways to seat them without restrictions is: 40320\n",
      "---\n",
      "b) The number of ways for the couples to sit together is: 384\n",
      "---\n",
      "c) The number of ways for the men to sit together to the right of the women is: 576\n"
     ]
    }
   ],
   "source": [
    "# 2.38\n",
    "\n",
    "# We have four couples, eight people in total, who bought tickets to sit in the same row of 8 seats.\n",
    "\n",
    "# a) If we want to find the number of possible ways to seat them without restrictions,\n",
    "# it’s simply the number of permutations of 8 people:\n",
    "import math\n",
    "possibilities = math.perm(8)\n",
    "print(f\"a) The number of possible ways to seat them without restrictions is: {possibilities}\")\n",
    "print(\"---\")\n",
    "\n",
    "# b) If each couple sits together, we can consider each couple as a single unit.\n",
    "# Thus, instead of 8 people, we have 4 “units” to permute.\n",
    "# The number of ways to permute these 4 units is:\n",
    "possibilities = math.perm(4)\n",
    "# However, within each couple, the two people can switch seats.\n",
    "# Therefore, for each permutation of the 4 units, there are 2! ways to arrange the people inside each couple.\n",
    "possibilities_unit = 2**4  # 2! for each of the 4 couples\n",
    "# So, the total number of ways for the couples to sit together is:\n",
    "total_possibilities = possibilities * possibilities_unit\n",
    "print(f\"b) The number of ways for the couples to sit together is: {total_possibilities}\")\n",
    "print(\"---\")\n",
    "\n",
    "# c) If all men sit together to the right of the women,\n",
    "# we can think of the men as being grouped in one “block” and the women in another “block.”\n",
    "# This creates only one possible block arrangement, but within each block,\n",
    "# the individuals can be arranged among themselves.\n",
    "# Thus, the number of ways for the men to be seated together is:\n",
    "possibilities_man = math.perm(4)\n",
    "# And the number of ways for the women to be seated together is:\n",
    "possibilities_woman = math.perm(4)\n",
    "\n",
    "# Using the multiplication rule, the total number of ways for the men to sit together\n",
    "# to the right of the women is:\n",
    "total_possibilities = possibilities_man * possibilities_woman\n",
    "print(f\"c) The number of ways for the men to sit together to the right of the women is: {total_possibilities}\")\n"
   ]
  },
  {
   "cell_type": "code",
   "execution_count": 20,
   "id": "d58b8980",
   "metadata": {},
   "outputs": [
    {
     "name": "stdout",
     "output_type": "stream",
     "text": [
      "a) The number of possible arrangements of the finalists is: 40320\n",
      "---\n",
      "b) The number of ways in which the top three places can be filled by the finalists is: 336\n"
     ]
    }
   ],
   "source": [
    "# 2.39\n",
    "\n",
    "# We have three boys and five girls as finalists in a spelling tournament.\n",
    "# The number of possible arrangements of these eight finalists is simply\n",
    "# the number of permutations of 8 people:\n",
    "import math\n",
    "possibilities = math.perm(8)\n",
    "print(f\"a) The number of possible arrangements of the finalists is: {possibilities}\")\n",
    "print(\"---\")\n",
    "\n",
    "# b) If we consider the possible ways in which the top three places can be filled,\n",
    "# we first take the number of possible combinations of 8 finalists taken 3 at a time,\n",
    "# and then permute those 3 finalists among the top three positions.\n",
    "possibilities = math.comb(8, 3) * math.perm(3)\n",
    "print(f\"b) The number of ways in which the top three places can be filled by the finalists is: {possibilities}\")"
   ]
  },
  {
   "cell_type": "code",
   "execution_count": 22,
   "id": "83ad16aa",
   "metadata": {},
   "outputs": [
    {
     "name": "stdout",
     "output_type": "stream",
     "text": [
      "The number of ways we can select and arrange 5 players for the starting positions is: 6720\n"
     ]
    }
   ],
   "source": [
    "# 2.40\n",
    "\n",
    "# We have a basketball team consisting of 8 players. Each player can play in any position.\n",
    "# There are five starting positions that need to be filled. We can do something similar\n",
    "# to exercise 2.39b, but in this case, we will use directly the formula for permutations\n",
    "# of n objects taken r at a time:\n",
    "\n",
    "# nPr = n! / (n - r)!\n",
    "import math\n",
    "possibilities = math.perm(8, 5)\n",
    "print(f\"The number of ways we can select and arrange 5 players for the starting positions is: {possibilities}\")"
   ]
  },
  {
   "cell_type": "code",
   "execution_count": 24,
   "id": "f0cae367",
   "metadata": {},
   "outputs": [
    {
     "name": "stdout",
     "output_type": "stream",
     "text": [
      "The number of ways we can assign the professors to the sections is: 360\n"
     ]
    }
   ],
   "source": [
    "# 2.41\n",
    "\n",
    "# We have six psychology professors, and we want to assign them to four different sections.\n",
    "# We proceed similarly to the previous exercise, using nPr = n! / (n - r)!:\n",
    "import math\n",
    "possibilities = math.perm(6, 4)\n",
    "print(f\"The number of ways we can assign the professors to the sections is: {possibilities}\")\n"
   ]
  },
  {
   "cell_type": "code",
   "execution_count": 26,
   "id": "204db971",
   "metadata": {},
   "outputs": [
    {
     "name": "stdout",
     "output_type": "stream",
     "text": [
      "The number of sample points is: 59280\n"
     ]
    }
   ],
   "source": [
    "# 2.42\n",
    "\n",
    "# We have forty participants, each with a ticket. There are three winning tickets:\n",
    "# one for first prize, one for second prize, and one for third prize.\n",
    "# The sample space consists of outcomes of the form (a, b, c),\n",
    "# where a is the first prize ticket, b is the second prize ticket, and c is the third prize ticket.\n",
    "# The number of sample points is the number of permutations of 40 objects taken 3 at a time:\n",
    "import math\n",
    "possibilities = math.perm(40, 3)\n",
    "print(f\"The number of sample points is: {possibilities}\")"
   ]
  },
  {
   "cell_type": "code",
   "execution_count": 28,
   "id": "82f0e827",
   "metadata": {},
   "outputs": [
    {
     "name": "stdout",
     "output_type": "stream",
     "text": [
      "The number of ways to plant five trees in a circle is: 24\n"
     ]
    }
   ],
   "source": [
    "# 2.43\n",
    "\n",
    "# We want to plant five trees in a circle, and we want to know in how many different ways this can be done.\n",
    "# Since it is a circle, we use the circular permutation theorem, which states that\n",
    "# the number of ways to arrange n objects in a circle is (n - 1)!.\n",
    "import math\n",
    "possibilities = math.perm(5 - 1)\n",
    "print(f\"The number of ways to plant five trees in a circle is: {possibilities}\")"
   ]
  },
  {
   "cell_type": "code",
   "execution_count": 30,
   "id": "9f21a5f3",
   "metadata": {},
   "outputs": [
    {
     "name": "stdout",
     "output_type": "stream",
     "text": [
      "The number of ways the wagons can be arranged in a circle is: 5040\n"
     ]
    }
   ],
   "source": [
    "# 2.44\n",
    "\n",
    "# We have eight wagons from Arizona, and we want to know in how many different ways\n",
    "# they can be arranged in a circle. Similar to the previous exercise, we use\n",
    "# the circular permutation theorem:\n",
    "import math\n",
    "possibilities = math.perm(8 - 1)\n",
    "print(f\"The number of ways the wagons can be arranged in a circle is: {possibilities}\")"
   ]
  },
  {
   "cell_type": "code",
   "execution_count": 33,
   "id": "2aeb51a7",
   "metadata": {},
   "outputs": [
    {
     "name": "stdout",
     "output_type": "stream",
     "text": [
      "The number of distinct permutations that can be formed with the word INFINITE is: 3360\n"
     ]
    }
   ],
   "source": [
    "# 2.45\n",
    "\n",
    "# We want to know how many distinct permutations can be formed with the word INFINITE.\n",
    "# Some letters repeat: I appears three times and N appears twice.\n",
    "\n",
    "# By the theorem of permutations with repeated objects, the number of distinct permutations\n",
    "# of n objects, where there are n1 of one type, n2 of another type, ..., nk of another type,\n",
    "# is given by: n! / (n1! * n2! * ... * nk!)\n",
    "import math\n",
    "n = 8  # Total letters in INFINITE\n",
    "n1 = 3  # I appears 3 times\n",
    "n2 = 2  # N appears 2 times\n",
    "# The other letters (F, T, E) appear once each, so their factorials are 1 and do not affect the calculation.\n",
    "possibilities = math.factorial(n) // (math.factorial(n1) * math.factorial(n2))\n",
    "print(f\"The number of distinct permutations that can be formed with the word INFINITE is: {possibilities}\")"
   ]
  },
  {
   "cell_type": "code",
   "execution_count": 35,
   "id": "82b6ea48",
   "metadata": {},
   "outputs": [
    {
     "name": "stdout",
     "output_type": "stream",
     "text": [
      "The number of distinct ways the trees can be planted is: 1260\n"
     ]
    }
   ],
   "source": [
    "# 2.46\n",
    "\n",
    "# We have three oaks, four pines, and two maples. We want to plant them in a row along the property line.\n",
    "# Trees of the same type are not distinguishable.\n",
    "# Therefore, this is a problem of permutations with repeated elements, similar to the previous exercise:\n",
    "import math\n",
    "n = 3 + 4 + 2  # Total number of trees\n",
    "n1 = 3  # Oaks\n",
    "n2 = 4  # Pines\n",
    "n3 = 2  # Maples\n",
    "possibilities = math.factorial(n) // (math.factorial(n1) * math.factorial(n2) * math.factorial(n3))\n",
    "print(f\"The number of distinct ways the trees can be planted is: {possibilities}\")"
   ]
  },
  {
   "cell_type": "code",
   "execution_count": 37,
   "id": "cd8b2a91",
   "metadata": {},
   "outputs": [
    {
     "name": "stdout",
     "output_type": "stream",
     "text": [
      "The number of ways the three vacancies can be filled is: 56\n"
     ]
    }
   ],
   "source": [
    "# 2.47\n",
    "\n",
    "# We have three indistinguishable vacancies in the accounting office. There are eight candidates to choose from.\n",
    "# Since order does not matter, we use the combination formula:\n",
    "import math\n",
    "possibilities = math.comb(8, 3)\n",
    "print(f\"The number of ways the three vacancies can be filled is: {possibilities}\")"
   ]
  },
  {
   "cell_type": "code",
   "execution_count": 39,
   "id": "6dfba73b",
   "metadata": {},
   "outputs": [
    {
     "name": "stdout",
     "output_type": "stream",
     "text": [
      "The number of ways the students can have different birthdays is: 32118305045030991521304314923696453096352404945688601384070309911636973370262044734220857508597566903976433710728280765229697954371914956800000000000000\n"
     ]
    }
   ],
   "source": [
    "# 2.48\n",
    "\n",
    "# There are sixty students. The problem asks that no two students share the same birthday,\n",
    "# meaning that all sixty students must have different birthdays.\n",
    "# Assuming a year has 365 days, and order matters (e.g., Pepe can have a birthday on January 1 \n",
    "# and Juan on February 2, or vice versa, which counts as two distinct arrangements),\n",
    "# we use the formula for permutations of n objects taken r at a time:\n",
    "import math\n",
    "possibilities = math.perm(365, 60)\n",
    "print(f\"The number of ways the students can have different birthdays is: {possibilities}\")"
   ]
  }
 ],
 "metadata": {
  "kernelspec": {
   "display_name": "Python 3",
   "language": "python",
   "name": "python3"
  },
  "language_info": {
   "codemirror_mode": {
    "name": "ipython",
    "version": 3
   },
   "file_extension": ".py",
   "mimetype": "text/x-python",
   "name": "python",
   "nbconvert_exporter": "python",
   "pygments_lexer": "ipython3",
   "version": "3.13.2"
  }
 },
 "nbformat": 4,
 "nbformat_minor": 5
}
