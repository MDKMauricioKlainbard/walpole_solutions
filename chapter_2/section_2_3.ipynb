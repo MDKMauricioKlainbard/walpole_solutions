{
 "cells": [
  {
   "cell_type": "code",
   "execution_count": null,
   "id": "1ba05a7f",
   "metadata": {},
   "outputs": [],
   "source": [
    "# 2.49\n",
    "import numpy as np\n",
    "\n",
    "# The errors in the following observations are:\n",
    "\n",
    "# a) The sum of the probabilities is not 1 but 1.01,\n",
    "#    which is impossible by the definition of probability.\n",
    "\n",
    "# b) The events are mutually exclusive, but they also define all possible outcomes;\n",
    "#    it either rains or it doesn’t. However, the sum of the probabilities is 0.92,\n",
    "#    when it should be 1.\n",
    "\n",
    "# c) It is not possible to have a negative probability for a given event.\n",
    "\n",
    "# d) We have the probability of drawing a heart card and the probability of drawing a black card,\n",
    "#    which are 1/4 and 1/2 respectively. However, the event defined by drawing a black heart card\n",
    "#    corresponds to the intersection of both events. The result 1/8 is incorrect,\n",
    "#    since it corresponds to the probability of the union of both events, not the intersection."
   ]
  },
  {
   "cell_type": "code",
   "execution_count": 6,
   "id": "ac4ffc81",
   "metadata": {},
   "outputs": [
    {
     "name": "stdout",
     "output_type": "stream",
     "text": [
      "[(1, 1), (1, 2), (1, 3), (1, 4), (1, 5), (1, 6), (2, 1), (2, 2), (2, 3), (2, 4), (2, 5), (2, 6), (3, 1), (3, 2), (3, 3), (3, 4), (3, 5), (3, 6), (4, 1), (4, 2), (4, 3), (4, 4), (4, 5), (4, 6), (5, 1), (5, 2), (5, 3), (5, 4), (5, 5), (5, 6), (6, 1), (6, 2), (6, 3), (6, 4), (6, 5), (6, 6)]\n",
      "Probability of each sample point: 0.027777777777777776\n",
      "---\n",
      "a) Probability of event A: 0.2777777777777778\n",
      "---\n",
      "b) Probability of event C: 0.3333333333333333\n",
      "---\n",
      "c) Probability of event A ∩ C: 0.19444444444444442\n"
     ]
    }
   ],
   "source": [
    "# 2.50\n",
    "\n",
    "# Recall that the sample space from Exercise 2.8 was defined as:\n",
    "import itertools\n",
    "sides = [1, 2, 3, 4, 5, 6]\n",
    "sample_space = list(itertools.product(sides, repeat=2))\n",
    "print(sample_space)\n",
    "\n",
    "# If each element of the sample space is equally likely, then the probability of each sample point is:\n",
    "\n",
    "p_each = 1 / len(sample_space)\n",
    "print(f'Probability of each sample point: {p_each}')\n",
    "print(\"---\")\n",
    "\n",
    "# a) Bringing back event A:\n",
    "event_A = [(x, y) for (x, y) in sample_space if x + y > 8]\n",
    "# The probability of event A is the number of sample points in A times the probability of each sample point:\n",
    "p_A = len(event_A) * p_each\n",
    "print(f'a) Probability of event A: {p_A}')\n",
    "print(\"---\")\n",
    "\n",
    "# b) Bringing back event C:\n",
    "event_C = [(x, y) for (x, y) in sample_space if x > 4]\n",
    "# The probability of event C is the number of sample points in C times the probability of each sample point:\n",
    "p_C = len(event_C) * p_each\n",
    "print(f'b) Probability of event C: {p_C}')\n",
    "print(\"---\")\n",
    "\n",
    "# c) The probability of the event defined by the intersection of A and C: A ∩ C,\n",
    "# can be obtained by listing the sample points that belong to both events:\n",
    "event_A_and_C = [point for point in event_A if point in event_C]\n",
    "p_A_and_C = len(event_A_and_C) * p_each\n",
    "print(f'c) Probability of event A ∩ C: {p_A_and_C}')\n"
   ]
  },
  {
   "cell_type": "code",
   "execution_count": 9,
   "id": "41c028b8",
   "metadata": {},
   "outputs": [
    {
     "name": "stdout",
     "output_type": "stream",
     "text": [
      "Probability of drawing a $100 envelope: 0.15\n",
      "Probability of drawing a $25 envelope: 0.3\n",
      "Probability of drawing a $10 envelope: 0.55\n",
      "---\n",
      "Probability of buying an envelope with less than $100: 0.8500000000000001\n"
     ]
    }
   ],
   "source": [
    "# 2.51\n",
    "\n",
    "# There are envelopes containing $100, $25, and $10. Since we can only buy one envelope,\n",
    "# the sample space is defined as:\n",
    "# S = {100, 25, 10}\n",
    "\n",
    "# Given that there are 75 envelopes of $100, 150 of $25, and 275 of $10,\n",
    "# the probability of each event is:\n",
    "n = 75 + 150 + 275\n",
    "p_100 = 75 / n\n",
    "p_25 = 150 / n\n",
    "p_10 = 275 / n\n",
    "\n",
    "print(f'Probability of drawing a $100 envelope: {p_100}')\n",
    "print(f'Probability of drawing a $25 envelope: {p_25}')\n",
    "print(f'Probability of drawing a $10 envelope: {p_10}')\n",
    "print(\"---\")\n",
    "\n",
    "# The probability of buying an envelope with less than $100,\n",
    "# that is, an envelope of $25 or $10, is:\n",
    "p_less_100 = p_25 + p_10\n",
    "print(f'Probability of buying an envelope with less than $100: {p_less_100}')\n"
   ]
  },
  {
   "cell_type": "code",
   "execution_count": 10,
   "id": "a12a0314",
   "metadata": {},
   "outputs": [],
   "source": [
    "# 2.52\n",
    "\n"
   ]
  }
 ],
 "metadata": {
  "kernelspec": {
   "display_name": "Python 3",
   "language": "python",
   "name": "python3"
  },
  "language_info": {
   "codemirror_mode": {
    "name": "ipython",
    "version": 3
   },
   "file_extension": ".py",
   "mimetype": "text/x-python",
   "name": "python",
   "nbconvert_exporter": "python",
   "pygments_lexer": "ipython3",
   "version": "3.13.2"
  }
 },
 "nbformat": 4,
 "nbformat_minor": 5
}
