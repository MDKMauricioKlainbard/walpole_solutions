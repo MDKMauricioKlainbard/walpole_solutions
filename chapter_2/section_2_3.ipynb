{
 "cells": [
  {
   "cell_type": "code",
   "execution_count": null,
   "id": "1ba05a7f",
   "metadata": {},
   "outputs": [],
   "source": [
    "# 2.43"
   ]
  }
 ],
 "metadata": {
  "language_info": {
   "name": "python"
  }
 },
 "nbformat": 4,
 "nbformat_minor": 5
}
